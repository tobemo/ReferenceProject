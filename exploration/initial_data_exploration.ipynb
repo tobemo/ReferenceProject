{
 "cells": [
  {
   "cell_type": "code",
   "execution_count": null,
   "metadata": {},
   "outputs": [],
   "source": [
    "from exploration.imports import * # pd, np, plt, sns"
   ]
  },
  {
   "cell_type": "code",
   "execution_count": null,
   "metadata": {},
   "outputs": [],
   "source": []
  }
 ],
 "metadata": {
  "kernelspec": {
   "display_name": ".venv",
   "language": "python",
   "name": "python3"
  },
  "language_info": {
   "name": "python",
   "version": "3.10.4"
  },
  "orig_nbformat": 4,
  "vscode": {
   "interpreter": {
    "hash": "bdff3e212a83e1ddaa2fb793d87b680d1bd2ccbe6b482a26bb364458d63538e6"
   }
  }
 },
 "nbformat": 4,
 "nbformat_minor": 2
}
